{
 "cells": [
  {
   "cell_type": "code",
   "execution_count": 14,
   "metadata": {},
   "outputs": [],
   "source": [
    "# import gmplot package \n",
    "import gmplot \n",
    "  \n",
    "# GoogleMapPlotter return Map object \n",
    "# Pass the center latitude and \n",
    "# center longitude \n",
    "#latitude_list = [ 30.3358376, 30.307977, 30.3216419 ] \n",
    "#longitude_list = [ 77.8701919, 78.048457, 78.0413095 ] \n",
    "gmap3 = gmplot.GoogleMapPlotter(30.3164945, \n",
    "                                78.03219179999999, 1)\n",
    "#gmap3.scatter( latitude_list, longitude_list, '# FF0000', \n",
    " #                             size = 40, marker = False )\n",
    "#gmap3.plot(latitude_list, longitude_list,  \n",
    " #          'cornflowerblue', edge_width = 2.5)\n",
    "gmap3.draw( \"map.html\" ) \n",
    "## Pass the absolute path \n",
    " \n"
   ]
  },
  {
   "cell_type": "code",
   "execution_count": null,
   "metadata": {},
   "outputs": [],
   "source": []
  }
 ],
 "metadata": {
  "kernelspec": {
   "display_name": "Python 3",
   "language": "python",
   "name": "python3"
  },
  "language_info": {
   "codemirror_mode": {
    "name": "ipython",
    "version": 3
   },
   "file_extension": ".py",
   "mimetype": "text/x-python",
   "name": "python",
   "nbconvert_exporter": "python",
   "pygments_lexer": "ipython3",
   "version": "3.7.1"
  }
 },
 "nbformat": 4,
 "nbformat_minor": 2
}
