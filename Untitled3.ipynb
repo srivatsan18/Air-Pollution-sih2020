{
 "cells": [
  {
   "cell_type": "code",
   "execution_count": 14,
   "metadata": {},
   "outputs": [],
   "source": [
    "import gmplot \n",
    "  \n",
    "latitude_list = [26.148 ] \n",
    "longitude_list = [91.731 ] \n",
    "  \n",
    "gmap3 = gmplot.GoogleMapPlotter(30.3164945, \n",
    "                                78.03219179999999, 8) \n",
    "gmap3.heatmap( latitude_list, longitude_list ) \n",
    "  \n",
    "gmap3.draw( \"map.html\" ) \n"
   ]
  },
  {
   "cell_type": "code",
   "execution_count": null,
   "metadata": {},
   "outputs": [],
   "source": []
  }
 ],
 "metadata": {
  "kernelspec": {
   "display_name": "Python 3",
   "language": "python",
   "name": "python3"
  },
  "language_info": {
   "codemirror_mode": {
    "name": "ipython",
    "version": 3
   },
   "file_extension": ".py",
   "mimetype": "text/x-python",
   "name": "python",
   "nbconvert_exporter": "python",
   "pygments_lexer": "ipython3",
   "version": "3.7.1"
  }
 },
 "nbformat": 4,
 "nbformat_minor": 2
}
